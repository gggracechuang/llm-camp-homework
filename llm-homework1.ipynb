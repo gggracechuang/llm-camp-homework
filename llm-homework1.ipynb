{
 "cells": [
  {
   "cell_type": "code",
   "execution_count": 43,
   "id": "1a89a84a-0b92-40b0-af28-392f42435404",
   "metadata": {
    "tags": []
   },
   "outputs": [
    {
     "data": {
      "text/plain": [
       "\"\\nQ1. Running Elastic\\nRun Elastic Search 8.4.3, and get the cluster information. If you run it on localhost, this is how you do it:\\n\\ncurl localhost:9200\\nWhat's the version.build_hash value?\\n\""
      ]
     },
     "execution_count": 43,
     "metadata": {},
     "output_type": "execute_result"
    }
   ],
   "source": [
    "'''\n",
    "Q1. Running Elastic\n",
    "Run Elastic Search 8.4.3, and get the cluster information. If you run it on localhost, this is how you do it:\n",
    "\n",
    "curl localhost:9200\n",
    "What's the version.build_hash value?\n",
    "'''"
   ]
  },
  {
   "cell_type": "code",
   "execution_count": null,
   "id": "606b5e35-ed44-411e-a005-089fea9eae71",
   "metadata": {},
   "outputs": [],
   "source": [
    "'''\n",
    "[Q1 Answer]\n",
    "version.build_hash = 42f05b9372a9a4a470db3b52817899b99a76ee73\n",
    "-----------------------------------------------------------------\n",
    "# by running this command in terminal:\n",
    "docker run -it \\\n",
    "    --rm \\\n",
    "    --name elasticsearch \\\n",
    "    -p 9200:9200 \\\n",
    "    -p 9300:9300 \\\n",
    "    -e \"discovery.type=single-node\" \\\n",
    "    -e \"xpack.security.enabled=false\" \\\n",
    "    docker.elastic.co/elasticsearch/elasticsearch:8.4.3\n",
    "\n",
    "$ curl localhost:9200\n",
    "{\n",
    "  \"name\" : \"aa9fe0bcb507\",\n",
    "  \"cluster_name\" : \"docker-cluster\",\n",
    "  \"cluster_uuid\" : \"RTFcATM-Skm3WPkC5XB1CA\",\n",
    "  \"version\" : {\n",
    "    \"number\" : \"8.4.3\",\n",
    "    \"build_flavor\" : \"default\",\n",
    "    \"build_type\" : \"docker\",\n",
    "    \"build_hash\" : \"42f05b9372a9a4a470db3b52817899b99a76ee73\",\n",
    "    \"build_date\" : \"2022-10-04T07:17:24.662462378Z\",\n",
    "    \"build_snapshot\" : false,\n",
    "    \"lucene_version\" : \"9.3.0\",\n",
    "    \"minimum_wire_compatibility_version\" : \"7.17.0\",\n",
    "    \"minimum_index_compatibility_version\" : \"7.0.0\"\n",
    "  },\n",
    "  \"tagline\" : \"You Know, for Search\"\n",
    "}\n",
    "'''"
   ]
  },
  {
   "cell_type": "code",
   "execution_count": null,
   "id": "117b93e4-1429-43e9-a38d-58037dd7b72e",
   "metadata": {
    "tags": []
   },
   "outputs": [],
   "source": [
    "'''\n",
    "Q2. Indexing the data\n",
    "Which function do you use for adding your data to elastic?\n",
    "\n",
    "insert\n",
    "index\n",
    "put\n",
    "add\n",
    "'''"
   ]
  },
  {
   "cell_type": "code",
   "execution_count": null,
   "id": "7e651b37-f9ea-4f71-95c7-96ac026571c9",
   "metadata": {},
   "outputs": [],
   "source": [
    "'''\n",
    "[Q2 Answer]\n",
    "index\n",
    "'''"
   ]
  },
  {
   "cell_type": "code",
   "execution_count": null,
   "id": "1aaf6097-68d1-42de-a7e9-c0753aaf9f11",
   "metadata": {},
   "outputs": [],
   "source": [
    "'''\n",
    "Q3. Searching\n",
    "Now let's search in our index.\n",
    "\n",
    "We will execute a query \"How do I execute a command in a running docker container?\".\n",
    "\n",
    "Use only question and text fields and give question a boost of 4, and use \"type\": \"best_fields\".\n",
    "\n",
    "What's the score for the top ranking result?\n",
    "\n",
    "94.05\n",
    "84.05\n",
    "74.05\n",
    "64.05\n",
    "Look at the _score field.\n",
    "'''"
   ]
  },
  {
   "cell_type": "code",
   "execution_count": null,
   "id": "1b6e65f5-a250-40f1-ab22-5269e1008292",
   "metadata": {},
   "outputs": [],
   "source": [
    "'''\n",
    "[Q3 Answer]\n",
    "84.05 (my actual score is 84.050095, sample code as below)\n",
    "'''"
   ]
  },
  {
   "cell_type": "code",
   "execution_count": 31,
   "id": "3ca0182f-4b5b-4dae-8032-677af245cb26",
   "metadata": {
    "tags": []
   },
   "outputs": [
    {
     "data": {
      "text/plain": [
       "(948, [])"
      ]
     },
     "execution_count": 31,
     "metadata": {},
     "output_type": "execute_result"
    }
   ],
   "source": [
    "from elasticsearch import Elasticsearch, helpers\n",
    "import requests\n",
    "\n",
    "host = \"http://localhost:9200\"\n",
    "docs_url = 'https://github.com/DataTalksClub/llm-zoomcamp/blob/main/01-intro/documents.json?raw=1'\n",
    "docs_response = requests.get(docs_url)\n",
    "documents_raw = docs_response.json()\n",
    "\n",
    "# get documents\n",
    "documents = []\n",
    "for course in documents_raw:\n",
    "    course_name = course['course']\n",
    "\n",
    "    for doc in course['documents']:\n",
    "        doc['course'] = course_name\n",
    "        documents.append(doc)\n",
    " \n",
    "\n",
    "es = Elasticsearch([host])\n",
    "    \n",
    "# Define the index settings and mappings\n",
    "index_name = \"my_index\"\n",
    "index_body = {\n",
    "    \"settings\": {\n",
    "        \"number_of_shards\": 1,\n",
    "        \"number_of_replicas\": 0\n",
    "    },\n",
    "    \"mappings\": {\n",
    "        \"properties\": {\n",
    "            \"text\": {\"type\": \"text\"},\n",
    "            \"section\": {\"type\": \"text\"},\n",
    "            \"question\": {\"type\": \"text\"},\n",
    "            \"course\": {\"type\": \"keyword\"}\n",
    "        }\n",
    "    }\n",
    "}\n",
    " \n",
    "# Create the index with the defined settings and mappings\n",
    "if not es.indices.exists(index=index_name):\n",
    "    es.indices.create(index=index_name, body=index_body)\n",
    " \n",
    "# Bulk index the documents\n",
    "actions = [\n",
    "    {\n",
    "        \"_index\": index_name,\n",
    "        \"_source\": doc\n",
    "    }\n",
    "    for doc in documents\n",
    "]\n",
    " \n",
    "helpers.bulk(es, actions)"
   ]
  },
  {
   "cell_type": "code",
   "execution_count": 32,
   "id": "4dc06e7c-3da2-4775-bd45-06a3bb0535af",
   "metadata": {
    "tags": []
   },
   "outputs": [
    {
     "name": "stdout",
     "output_type": "stream",
     "text": [
      "Score: 84.050095, Document: {'text': 'Launch the container image in interactive mode and overriding the entrypoint, so that it starts a bash command.\\ndocker run -it --entrypoint bash <image>\\nIf the container is already running, execute a command in the specific container:\\ndocker ps (find the container-id)\\ndocker exec -it <container-id> bash\\n(Marcos MJD)', 'section': '5. Deploying Machine Learning Models', 'question': 'How do I debug a docker container?', 'course': 'machine-learning-zoomcamp'}\n"
     ]
    }
   ],
   "source": [
    "# Define the search query\n",
    "search_query = {\n",
    "    \"size\": 1,\n",
    "    \"query\": {\n",
    "        \"bool\": {\n",
    "            \"must\": {\n",
    "                \"multi_match\": {\n",
    "                    \"query\": \"How do I execute a command in a running docker container?\",\n",
    "                    \"fields\": [\"question^4\", \"text\"],\n",
    "                    \"type\": \"best_fields\"\n",
    "                }\n",
    "            }\n",
    "        }\n",
    "    }\n",
    "}\n",
    " \n",
    "# Perform the search\n",
    "response = es.search(index=index_name, body=search_query)\n",
    " \n",
    "# Print the search results with scores\n",
    "for hit in response['hits']['hits']:\n",
    "    print(f\"Score: {hit['_score']}, Document: {hit['_source']}\")"
   ]
  },
  {
   "cell_type": "code",
   "execution_count": null,
   "id": "35fe55c2-2b36-48f7-9929-23cbee2350fc",
   "metadata": {
    "tags": []
   },
   "outputs": [],
   "source": [
    "'''\n",
    "Q4. Filtering\n",
    "Now let's only limit the questions to machine-learning-zoomcamp.\n",
    "\n",
    "Return 3 results. What's the 3rd question returned by the search engine?\n",
    "\n",
    "How do I debug a docker container?\n",
    "How do I copy files from a different folder into docker container’s working directory?\n",
    "How do Lambda container images work?\n",
    "How can I annotate a graph?\n",
    "'''"
   ]
  },
  {
   "cell_type": "code",
   "execution_count": null,
   "id": "814a853f-16e3-4827-bbb8-d8a7f9596e34",
   "metadata": {},
   "outputs": [],
   "source": [
    "'''\n",
    "[Q4 answer]\n",
    "How do I copy files from a different folder into docker container’s working directory? (sample code as below)\n",
    "'''"
   ]
  },
  {
   "cell_type": "code",
   "execution_count": 33,
   "id": "d3e2e70d-6556-4063-b27f-e6dcd2535331",
   "metadata": {
    "tags": []
   },
   "outputs": [
    {
     "name": "stdout",
     "output_type": "stream",
     "text": [
      "Score: 84.050095, Document: {'text': 'Launch the container image in interactive mode and overriding the entrypoint, so that it starts a bash command.\\ndocker run -it --entrypoint bash <image>\\nIf the container is already running, execute a command in the specific container:\\ndocker ps (find the container-id)\\ndocker exec -it <container-id> bash\\n(Marcos MJD)', 'section': '5. Deploying Machine Learning Models', 'question': 'How do I debug a docker container?', 'course': 'machine-learning-zoomcamp'}\n",
      "Score: 51.04628, Document: {'text': \"You can copy files from your local machine into a Docker container using the docker cp command. Here's how to do it:\\nTo copy a file or directory from your local machine into a running Docker container, you can use the `docker cp command`. The basic syntax is as follows:\\ndocker cp /path/to/local/file_or_directory container_id:/path/in/container\\nHrithik Kumar Advani\", 'section': '5. Deploying Machine Learning Models', 'question': 'How do I copy files from my local machine to docker container?', 'course': 'machine-learning-zoomcamp'}\n",
      "Score: 49.938507, Document: {'text': 'You can copy files from your local machine into a Docker container using the docker cp command. Here\\'s how to do it:\\nIn the Dockerfile, you can provide the folder containing the files that you want to copy over. The basic syntax is as follows:\\nCOPY [\"src/predict.py\", \"models/xgb_model.bin\", \"./\"]\\t\\t\\t\\t\\t\\t\\t\\t\\t\\t\\tGopakumar Gopinathan', 'section': '5. Deploying Machine Learning Models', 'question': 'How do I copy files from a different folder into docker container’s working directory?', 'course': 'machine-learning-zoomcamp'}\n"
     ]
    }
   ],
   "source": [
    "# Define the search query\n",
    "search_query = {\n",
    "    \"size\": 3,\n",
    "    \"query\": {\n",
    "        \"bool\": {\n",
    "            \"must\": {\n",
    "                \"multi_match\": {\n",
    "                    \"query\": \"How do I execute a command in a running docker container?\",  # Replace with the actual search query\n",
    "                    \"fields\": [\"question^4\", \"text\"],\n",
    "                    \"type\": \"best_fields\"\n",
    "                }\n",
    "            },\n",
    "            \"filter\": {\n",
    "                \"term\": {\n",
    "                    \"course\": \"machine-learning-zoomcamp\"\n",
    "                }\n",
    "            }\n",
    "        }\n",
    "    }\n",
    "}\n",
    " \n",
    "# Perform the search\n",
    "response = es.search(index=index_name, body=search_query)\n",
    " \n",
    "# Print the search results with scores\n",
    "for hit in response['hits']['hits']:\n",
    "    print(f\"Score: {hit['_score']}, Document: {hit['_source']}\")"
   ]
  },
  {
   "cell_type": "code",
   "execution_count": null,
   "id": "652e9fa1-1442-4697-902b-05b328afbf3b",
   "metadata": {},
   "outputs": [],
   "source": [
    "'''\n",
    "Q5. Building a prompt\n",
    "What's the length of the resulting prompt? (use the len function)\n",
    "\n",
    "962\n",
    "1462\n",
    "1962\n",
    "2462\n",
    "'''"
   ]
  },
  {
   "cell_type": "code",
   "execution_count": null,
   "id": "7b70fdd8-bad0-47fa-8f77-ec254fc6e5bf",
   "metadata": {},
   "outputs": [],
   "source": [
    "'''\n",
    "[Q5 Answer]\n",
    "1462 (see sample code below)\n",
    "'''"
   ]
  },
  {
   "cell_type": "code",
   "execution_count": 44,
   "id": "bf1187cf-a9c7-42ab-b5ec-c750f0b9203c",
   "metadata": {
    "tags": []
   },
   "outputs": [
    {
     "name": "stdout",
     "output_type": "stream",
     "text": [
      "You're a course teaching assistant. Answer the QUESTION based on the CONTEXT from the FAQ database.\n",
      "Use only the facts from the CONTEXT when answering the QUESTION.\n",
      "\n",
      "QUESTION: How do I execute a command in a running docker container?\n",
      "\n",
      "CONTEXT:\n",
      "Q: How do I debug a docker container?\n",
      "A: Launch the container image in interactive mode and overriding the entrypoint, so that it starts a bash command.\n",
      "docker run -it --entrypoint bash <image>\n",
      "If the container is already running, execute a command in the specific container:\n",
      "docker ps (find the container-id)\n",
      "docker exec -it <container-id> bash\n",
      "(Marcos MJD)\n",
      "\n",
      "Q: How do I copy files from my local machine to docker container?\n",
      "A: You can copy files from your local machine into a Docker container using the docker cp command. Here's how to do it:\n",
      "To copy a file or directory from your local machine into a running Docker container, you can use the `docker cp command`. The basic syntax is as follows:\n",
      "docker cp /path/to/local/file_or_directory container_id:/path/in/container\n",
      "Hrithik Kumar Advani\n",
      "\n",
      "Q: How do I copy files from a different folder into docker container’s working directory?\n",
      "A: You can copy files from your local machine into a Docker container using the docker cp command. Here's how to do it:\n",
      "In the Dockerfile, you can provide the folder containing the files that you want to copy over. The basic syntax is as follows:\n",
      "COPY [\"src/predict.py\", \"models/xgb_model.bin\", \"./\"]\t\t\t\t\t\t\t\t\t\t\tGopakumar Gopinathan\n",
      "1462\n"
     ]
    }
   ],
   "source": [
    "results = [{'text': 'Launch the container image in interactive mode and overriding the entrypoint, so that it starts a bash command.\\ndocker run -it --entrypoint bash <image>\\nIf the container is already running, execute a command in the specific container:\\ndocker ps (find the container-id)\\ndocker exec -it <container-id> bash\\n(Marcos MJD)', 'section': '5. Deploying Machine Learning Models', 'question': 'How do I debug a docker container?', 'course': 'machine-learning-zoomcamp'}, {'text': \"You can copy files from your local machine into a Docker container using the docker cp command. Here's how to do it:\\nTo copy a file or directory from your local machine into a running Docker container, you can use the `docker cp command`. The basic syntax is as follows:\\ndocker cp /path/to/local/file_or_directory container_id:/path/in/container\\nHrithik Kumar Advani\", 'section': '5. Deploying Machine Learning Models', 'question': 'How do I copy files from my local machine to docker container?', 'course': 'machine-learning-zoomcamp'},{'text': 'You can copy files from your local machine into a Docker container using the docker cp command. Here\\'s how to do it:\\nIn the Dockerfile, you can provide the folder containing the files that you want to copy over. The basic syntax is as follows:\\nCOPY [\"src/predict.py\", \"models/xgb_model.bin\", \"./\"]\\t\\t\\t\\t\\t\\t\\t\\t\\t\\t\\tGopakumar Gopinathan', 'section': '5. Deploying Machine Learning Models', 'question': 'How do I copy files from a different folder into docker container’s working directory?', 'course': 'machine-learning-zoomcamp'}]\n",
    "context = \"\"\n",
    "context_template = context_template = \"\"\"\n",
    "Q: {question}\n",
    "A: {text}\n",
    "\"\"\".strip()\n",
    "for doc in results:\n",
    "    context = context + context_template.format(question=doc['question'], text=doc['text']).strip() + \"\\n\\n\"\n",
    "#print(context)\n",
    "\n",
    "\n",
    "question = \"How do I execute a command in a running docker container?\"\n",
    "\n",
    "prompt_template = \"\"\"\n",
    "You're a course teaching assistant. Answer the QUESTION based on the CONTEXT from the FAQ database.\n",
    "Use only the facts from the CONTEXT when answering the QUESTION.\n",
    "\n",
    "QUESTION: {question}\n",
    "\n",
    "CONTEXT:\n",
    "{context}\n",
    "\"\"\".format(question=question, context=context).strip()\n",
    "\n",
    "print(prompt_template)\n",
    "print(len(prompt_template))"
   ]
  },
  {
   "cell_type": "code",
   "execution_count": null,
   "id": "e09f9ef9-947b-4567-82af-d4238e5df0d9",
   "metadata": {},
   "outputs": [],
   "source": [
    "'''\n",
    "Q6. Tokens\n",
    "Use the encode function. How many tokens does our prompt have?\n",
    "\n",
    "122\n",
    "222\n",
    "322\n",
    "422\n",
    "'''"
   ]
  },
  {
   "cell_type": "code",
   "execution_count": null,
   "id": "5a12415c-4621-4f48-bed0-45ab71bcc3f0",
   "metadata": {},
   "outputs": [],
   "source": [
    "'''\n",
    "[Q6 Answer]\n",
    "322 (see sample code below)\n",
    "'''"
   ]
  },
  {
   "cell_type": "code",
   "execution_count": 46,
   "id": "8651b14a-7955-403b-b9ee-5c049ade826c",
   "metadata": {
    "tags": []
   },
   "outputs": [
    {
     "name": "stdout",
     "output_type": "stream",
     "text": [
      "[63842, 261, 4165, 14029, 29186, 13, 30985, 290, 150339, 4122, 402, 290, 31810, 8099, 591, 290, 40251, 7862, 558, 8470, 1606, 290, 19719, 591, 290, 31810, 8099, 1261, 55959, 290, 150339, 364, 107036, 25, 3253, 621, 357, 15792, 261, 6348, 306, 261, 6788, 62275, 9282, 1715, 10637, 50738, 734, 48, 25, 3253, 621, 357, 15199, 261, 62275, 9282, 3901, 32, 25, 41281, 290, 9282, 3621, 306, 25383, 6766, 326, 151187, 290, 7251, 4859, 11, 813, 484, 480, 13217, 261, 38615, 6348, 558, 68923, 2461, 533, 278, 2230, 7962, 4859, 38615, 464, 3365, 523, 3335, 290, 9282, 382, 4279, 6788, 11, 15792, 261, 6348, 306, 290, 4857, 9282, 734, 68923, 10942, 350, 6555, 290, 9282, 26240, 446, 68923, 25398, 533, 278, 464, 6896, 26240, 29, 38615, 198, 6103, 277, 10732, 391, 79771, 1029, 48, 25, 3253, 621, 357, 5150, 6291, 591, 922, 2698, 7342, 316, 62275, 9282, 3901, 32, 25, 1608, 665, 5150, 6291, 591, 634, 2698, 7342, 1511, 261, 91238, 9282, 2360, 290, 62275, 27776, 6348, 13, 44257, 1495, 316, 621, 480, 734, 1385, 5150, 261, 1974, 503, 12552, 591, 634, 2698, 7342, 1511, 261, 6788, 91238, 9282, 11, 481, 665, 1199, 290, 2700, 68923, 27776, 6348, 62102, 623, 9439, 45440, 382, 472, 18183, 734, 68923, 27776, 820, 4189, 72231, 52214, 51766, 15400, 35850, 9282, 1537, 27975, 4189, 26985, 190543, 198, 106096, 437, 507, 70737, 15241, 3048, 279, 48, 25, 3253, 621, 357, 5150, 6291, 591, 261, 2647, 15610, 1511, 62275, 9282, 802, 4113, 12552, 3901, 32, 25, 1608, 665, 5150, 6291, 591, 634, 2698, 7342, 1511, 261, 91238, 9282, 2360, 290, 62275, 27776, 6348, 13, 44257, 1495, 316, 621, 480, 734, 637, 290, 91238, 2318, 11, 481, 665, 3587, 290, 15610, 15683, 290, 6291, 484, 481, 1682, 316, 5150, 1072, 13, 623, 9439, 45440, 382, 472, 18183, 734, 128701, 9129, 7205, 8138, 21369, 17311, 672, 392, 13123, 22739, 9320, 10928, 69422, 672, 9633, 2601, 14973, 22713, 167296, 30463, 499, 137058, 22064]\n",
      "322\n"
     ]
    }
   ],
   "source": [
    "import tiktoken\n",
    "\n",
    "encoding = tiktoken.encoding_for_model(\"gpt-4o\")\n",
    "encoded_prompt = encoding.encode(prompt_template)\n",
    "\n",
    "# Print the encoded tokens\n",
    "print(encoded_prompt)\n",
    "print(len(encoded_prompt))"
   ]
  },
  {
   "cell_type": "code",
   "execution_count": null,
   "id": "ec574229-379b-48f4-b1d1-8e2f34fae1d1",
   "metadata": {},
   "outputs": [],
   "source": []
  }
 ],
 "metadata": {
  "environment": {
   "kernel": "python3",
   "name": "common-cpu.m120",
   "type": "gcloud",
   "uri": "us-docker.pkg.dev/deeplearning-platform-release/gcr.io/base-cpu:m120"
  },
  "kernelspec": {
   "display_name": "Python 3 (Local)",
   "language": "python",
   "name": "python3"
  },
  "language_info": {
   "codemirror_mode": {
    "name": "ipython",
    "version": 3
   },
   "file_extension": ".py",
   "mimetype": "text/x-python",
   "name": "python",
   "nbconvert_exporter": "python",
   "pygments_lexer": "ipython3",
   "version": "3.10.14"
  }
 },
 "nbformat": 4,
 "nbformat_minor": 5
}
