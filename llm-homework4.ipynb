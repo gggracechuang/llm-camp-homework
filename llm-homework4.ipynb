{
 "cells": [
  {
   "cell_type": "markdown",
   "id": "2f3a3c55-7354-46c4-a1f2-40d739b36d96",
   "metadata": {
    "tags": []
   },
   "source": [
    "#### Q1. Getting the embeddings model\n",
    "##### Q1 answer = -0.42"
   ]
  },
  {
   "cell_type": "code",
   "execution_count": null,
   "id": "d2eb9c8c-46ae-406a-bf49-0f323d7f2837",
   "metadata": {},
   "outputs": [],
   "source": [
    "import pandas as pd\n",
    "\n",
    "github_url = \"https://github.com/DataTalksClub/llm-zoomcamp/blob/main/04-monitoring/data/results-gpt4o-mini.csv\"\n",
    "url = f'{github_url}?raw=1'\n",
    "df = pd.read_csv(url)"
   ]
  },
  {
   "cell_type": "code",
   "execution_count": 68,
   "id": "448497cd-61a9-4a95-9acb-c0758d858132",
   "metadata": {
    "tags": []
   },
   "outputs": [],
   "source": [
    "df = df.iloc[:300]"
   ]
  },
  {
   "cell_type": "code",
   "execution_count": 69,
   "id": "6f911ca4-e462-43e6-82ab-5fb909fea7c2",
   "metadata": {
    "tags": []
   },
   "outputs": [
    {
     "data": {
      "text/html": [
       "<div>\n",
       "<style scoped>\n",
       "    .dataframe tbody tr th:only-of-type {\n",
       "        vertical-align: middle;\n",
       "    }\n",
       "\n",
       "    .dataframe tbody tr th {\n",
       "        vertical-align: top;\n",
       "    }\n",
       "\n",
       "    .dataframe thead th {\n",
       "        text-align: right;\n",
       "    }\n",
       "</style>\n",
       "<table border=\"1\" class=\"dataframe\">\n",
       "  <thead>\n",
       "    <tr style=\"text-align: right;\">\n",
       "      <th></th>\n",
       "      <th>answer_llm</th>\n",
       "      <th>answer_orig</th>\n",
       "      <th>document</th>\n",
       "      <th>question</th>\n",
       "      <th>course</th>\n",
       "    </tr>\n",
       "  </thead>\n",
       "  <tbody>\n",
       "    <tr>\n",
       "      <th>0</th>\n",
       "      <td>You can sign up for the course by visiting the...</td>\n",
       "      <td>Machine Learning Zoomcamp FAQ\\nThe purpose of ...</td>\n",
       "      <td>0227b872</td>\n",
       "      <td>Where can I sign up for the course?</td>\n",
       "      <td>machine-learning-zoomcamp</td>\n",
       "    </tr>\n",
       "    <tr>\n",
       "      <th>1</th>\n",
       "      <td>You can sign up using the link provided in the...</td>\n",
       "      <td>Machine Learning Zoomcamp FAQ\\nThe purpose of ...</td>\n",
       "      <td>0227b872</td>\n",
       "      <td>Can you provide a link to sign up?</td>\n",
       "      <td>machine-learning-zoomcamp</td>\n",
       "    </tr>\n",
       "    <tr>\n",
       "      <th>2</th>\n",
       "      <td>Yes, there is an FAQ for the Machine Learning ...</td>\n",
       "      <td>Machine Learning Zoomcamp FAQ\\nThe purpose of ...</td>\n",
       "      <td>0227b872</td>\n",
       "      <td>Is there an FAQ for this Machine Learning course?</td>\n",
       "      <td>machine-learning-zoomcamp</td>\n",
       "    </tr>\n",
       "    <tr>\n",
       "      <th>3</th>\n",
       "      <td>The context does not provide any specific info...</td>\n",
       "      <td>Machine Learning Zoomcamp FAQ\\nThe purpose of ...</td>\n",
       "      <td>0227b872</td>\n",
       "      <td>Does this course have a GitHub repository for ...</td>\n",
       "      <td>machine-learning-zoomcamp</td>\n",
       "    </tr>\n",
       "    <tr>\n",
       "      <th>4</th>\n",
       "      <td>To structure your questions and answers for th...</td>\n",
       "      <td>Machine Learning Zoomcamp FAQ\\nThe purpose of ...</td>\n",
       "      <td>0227b872</td>\n",
       "      <td>How can I structure my questions and answers f...</td>\n",
       "      <td>machine-learning-zoomcamp</td>\n",
       "    </tr>\n",
       "    <tr>\n",
       "      <th>...</th>\n",
       "      <td>...</td>\n",
       "      <td>...</td>\n",
       "      <td>...</td>\n",
       "      <td>...</td>\n",
       "      <td>...</td>\n",
       "    </tr>\n",
       "    <tr>\n",
       "      <th>295</th>\n",
       "      <td>An alternative way to load the data using the ...</td>\n",
       "      <td>Above users showed how to load the dataset dir...</td>\n",
       "      <td>8d209d6d</td>\n",
       "      <td>What is an alternative way to load the data us...</td>\n",
       "      <td>machine-learning-zoomcamp</td>\n",
       "    </tr>\n",
       "    <tr>\n",
       "      <th>296</th>\n",
       "      <td>You can directly download the dataset from Git...</td>\n",
       "      <td>Above users showed how to load the dataset dir...</td>\n",
       "      <td>8d209d6d</td>\n",
       "      <td>How can I directly download the dataset from G...</td>\n",
       "      <td>machine-learning-zoomcamp</td>\n",
       "    </tr>\n",
       "    <tr>\n",
       "      <th>297</th>\n",
       "      <td>You can fetch data for homework using the `req...</td>\n",
       "      <td>Above users showed how to load the dataset dir...</td>\n",
       "      <td>8d209d6d</td>\n",
       "      <td>Could you share a method to fetch data for hom...</td>\n",
       "      <td>machine-learning-zoomcamp</td>\n",
       "    </tr>\n",
       "    <tr>\n",
       "      <th>298</th>\n",
       "      <td>If the status code is 200 when downloading dat...</td>\n",
       "      <td>Above users showed how to load the dataset dir...</td>\n",
       "      <td>8d209d6d</td>\n",
       "      <td>What should I do if the status code is 200 whe...</td>\n",
       "      <td>machine-learning-zoomcamp</td>\n",
       "    </tr>\n",
       "    <tr>\n",
       "      <th>299</th>\n",
       "      <td>If the file download fails when using the requ...</td>\n",
       "      <td>Above users showed how to load the dataset dir...</td>\n",
       "      <td>8d209d6d</td>\n",
       "      <td>What does the code using the requests library ...</td>\n",
       "      <td>machine-learning-zoomcamp</td>\n",
       "    </tr>\n",
       "  </tbody>\n",
       "</table>\n",
       "<p>300 rows × 5 columns</p>\n",
       "</div>"
      ],
      "text/plain": [
       "                                            answer_llm  \\\n",
       "0    You can sign up for the course by visiting the...   \n",
       "1    You can sign up using the link provided in the...   \n",
       "2    Yes, there is an FAQ for the Machine Learning ...   \n",
       "3    The context does not provide any specific info...   \n",
       "4    To structure your questions and answers for th...   \n",
       "..                                                 ...   \n",
       "295  An alternative way to load the data using the ...   \n",
       "296  You can directly download the dataset from Git...   \n",
       "297  You can fetch data for homework using the `req...   \n",
       "298  If the status code is 200 when downloading dat...   \n",
       "299  If the file download fails when using the requ...   \n",
       "\n",
       "                                           answer_orig  document  \\\n",
       "0    Machine Learning Zoomcamp FAQ\\nThe purpose of ...  0227b872   \n",
       "1    Machine Learning Zoomcamp FAQ\\nThe purpose of ...  0227b872   \n",
       "2    Machine Learning Zoomcamp FAQ\\nThe purpose of ...  0227b872   \n",
       "3    Machine Learning Zoomcamp FAQ\\nThe purpose of ...  0227b872   \n",
       "4    Machine Learning Zoomcamp FAQ\\nThe purpose of ...  0227b872   \n",
       "..                                                 ...       ...   \n",
       "295  Above users showed how to load the dataset dir...  8d209d6d   \n",
       "296  Above users showed how to load the dataset dir...  8d209d6d   \n",
       "297  Above users showed how to load the dataset dir...  8d209d6d   \n",
       "298  Above users showed how to load the dataset dir...  8d209d6d   \n",
       "299  Above users showed how to load the dataset dir...  8d209d6d   \n",
       "\n",
       "                                              question  \\\n",
       "0                  Where can I sign up for the course?   \n",
       "1                   Can you provide a link to sign up?   \n",
       "2    Is there an FAQ for this Machine Learning course?   \n",
       "3    Does this course have a GitHub repository for ...   \n",
       "4    How can I structure my questions and answers f...   \n",
       "..                                                 ...   \n",
       "295  What is an alternative way to load the data us...   \n",
       "296  How can I directly download the dataset from G...   \n",
       "297  Could you share a method to fetch data for hom...   \n",
       "298  What should I do if the status code is 200 whe...   \n",
       "299  What does the code using the requests library ...   \n",
       "\n",
       "                        course  \n",
       "0    machine-learning-zoomcamp  \n",
       "1    machine-learning-zoomcamp  \n",
       "2    machine-learning-zoomcamp  \n",
       "3    machine-learning-zoomcamp  \n",
       "4    machine-learning-zoomcamp  \n",
       "..                         ...  \n",
       "295  machine-learning-zoomcamp  \n",
       "296  machine-learning-zoomcamp  \n",
       "297  machine-learning-zoomcamp  \n",
       "298  machine-learning-zoomcamp  \n",
       "299  machine-learning-zoomcamp  \n",
       "\n",
       "[300 rows x 5 columns]"
      ]
     },
     "execution_count": 69,
     "metadata": {},
     "output_type": "execute_result"
    }
   ],
   "source": [
    "df"
   ]
  },
  {
   "cell_type": "code",
   "execution_count": 49,
   "id": "74b8a11a-99c6-4d5d-b754-7a45b55e4dc8",
   "metadata": {
    "tags": []
   },
   "outputs": [],
   "source": [
    "from sentence_transformers import SentenceTransformer\n",
    "embedding_model = SentenceTransformer(\"multi-qa-mpnet-base-dot-v1\")"
   ]
  },
  {
   "cell_type": "code",
   "execution_count": 50,
   "id": "6187b87d-dde5-4dcc-983a-021e9862e7df",
   "metadata": {
    "tags": []
   },
   "outputs": [],
   "source": [
    "answer_llm = df.iloc[0].answer_llm"
   ]
  },
  {
   "cell_type": "code",
   "execution_count": 51,
   "id": "57106351-a29c-410d-9b48-b8b466ea1a7c",
   "metadata": {
    "tags": []
   },
   "outputs": [
    {
     "data": {
      "text/plain": [
       "'You can sign up for the course by visiting the course page at [http://mlzoomcamp.com/](http://mlzoomcamp.com/).'"
      ]
     },
     "execution_count": 51,
     "metadata": {},
     "output_type": "execute_result"
    }
   ],
   "source": [
    "answer_llm"
   ]
  },
  {
   "cell_type": "code",
   "execution_count": 52,
   "id": "a1b90d58-0e5d-4f26-8a0f-1812d7e0cd15",
   "metadata": {
    "tags": []
   },
   "outputs": [],
   "source": [
    "embeddings = embedding_model.encode(answer_llm)"
   ]
  },
  {
   "cell_type": "code",
   "execution_count": 53,
   "id": "eada5de9-10d8-4414-9c95-d89df204391e",
   "metadata": {
    "tags": []
   },
   "outputs": [
    {
     "data": {
      "text/plain": [
       "array([-0.42244664, -0.22485578, -0.3240585 , -0.2847588 ,  0.00725704],\n",
       "      dtype=float32)"
      ]
     },
     "execution_count": 53,
     "metadata": {},
     "output_type": "execute_result"
    }
   ],
   "source": [
    "# Q1 answer = -0.42\n",
    "embeddings[:5]"
   ]
  },
  {
   "cell_type": "markdown",
   "id": "e150b9bb-8468-4902-9acc-1951489ca5f6",
   "metadata": {
    "tags": []
   },
   "source": [
    "#### Q2. Computing the dot product\n",
    "##### Q2 answer = 31.67"
   ]
  },
  {
   "cell_type": "code",
   "execution_count": 56,
   "id": "9b79bf38-d425-47d3-8df3-ef6807835461",
   "metadata": {
    "tags": []
   },
   "outputs": [
    {
     "name": "stdout",
     "output_type": "stream",
     "text": [
      "processing 0...\n",
      "processing 50...\n",
      "processing 100...\n",
      "processing 150...\n",
      "processing 200...\n",
      "processing 250...\n",
      "done\n"
     ]
    }
   ],
   "source": [
    "import numpy as np\n",
    "\n",
    "evaluations = []\n",
    "for index, row in df.iterrows():\n",
    "    if index%50==0:\n",
    "        print(f\"processing {index}...\")\n",
    "    answer_llm = row.answer_llm\n",
    "    answer_orig = row.answer_orig\n",
    "    answer_llm_embed = embedding_model.encode(answer_llm)\n",
    "    answer_orig_embed = embedding_model.encode(answer_orig)\n",
    "    \n",
    "    result = answer_llm_embed.dot(answer_orig_embed)\n",
    "    evaluations.append(result)\n",
    "    \n",
    "print(\"done\")"
   ]
  },
  {
   "cell_type": "code",
   "execution_count": 57,
   "id": "50a71bbf-eefc-45a1-bfa9-d2ce043ea55a",
   "metadata": {
    "tags": []
   },
   "outputs": [
    {
     "data": {
      "text/plain": [
       "[17.515999, 13.418407, 25.313251, 12.147418, 18.74773]"
      ]
     },
     "execution_count": 57,
     "metadata": {},
     "output_type": "execute_result"
    }
   ],
   "source": [
    "evaluations[:5]"
   ]
  },
  {
   "cell_type": "code",
   "execution_count": 60,
   "id": "93ce8525-8abf-4093-be70-68bf533961ef",
   "metadata": {
    "tags": []
   },
   "outputs": [
    {
     "data": {
      "text/plain": [
       "count    300.000000\n",
       "mean      27.495996\n",
       "std        6.384744\n",
       "min        4.547924\n",
       "25%       24.307847\n",
       "50%       28.336860\n",
       "75%       31.674305\n",
       "max       39.476021\n",
       "dtype: float64"
      ]
     },
     "execution_count": 60,
     "metadata": {},
     "output_type": "execute_result"
    }
   ],
   "source": [
    "# Q2 answer = 31.67\n",
    "series = pd.Series(evaluations)\n",
    "stats = series.describe()\n",
    "stats"
   ]
  },
  {
   "cell_type": "markdown",
   "id": "49a731fd-5dae-4dde-9e2e-257d50a34d76",
   "metadata": {},
   "source": [
    "#### Q3. Computing the cosine\n",
    "##### Q3 answer = 0.83"
   ]
  },
  {
   "cell_type": "code",
   "execution_count": 63,
   "id": "12bc4897-2bf6-452f-9317-3cac4e5bf851",
   "metadata": {
    "tags": []
   },
   "outputs": [
    {
     "name": "stdout",
     "output_type": "stream",
     "text": [
      "processing 0...\n",
      "processing 50...\n",
      "processing 100...\n",
      "processing 150...\n",
      "processing 200...\n",
      "processing 250...\n",
      "done\n"
     ]
    },
    {
     "data": {
      "text/plain": [
       "[0.5067543, 0.388549, 0.7185991, 0.3372664, 0.5217923]"
      ]
     },
     "execution_count": 63,
     "metadata": {},
     "output_type": "execute_result"
    }
   ],
   "source": [
    "import numpy as np\n",
    "\n",
    "def get_v_norm(v):\n",
    "    norm = np.sqrt((v * v).sum())\n",
    "    v_norm = v / norm\n",
    "    return v_norm\n",
    "\n",
    "evaluations = []\n",
    "for index, row in df.iterrows():\n",
    "    if index%50==0:\n",
    "        print(f\"processing {index}...\")\n",
    "    answer_llm = row.answer_llm\n",
    "    answer_orig = row.answer_orig\n",
    "    answer_llm_embed = embedding_model.encode(answer_llm)\n",
    "    answer_orig_embed = embedding_model.encode(answer_orig)\n",
    "    \n",
    "    answer_llm_norm = get_v_norm(answer_llm_embed)\n",
    "    answer_orig_norm = get_v_norm(answer_orig_embed)\n",
    "    \n",
    "    result = answer_llm_norm.dot(answer_orig_norm)\n",
    "    evaluations.append(result)\n",
    "    \n",
    "print(\"done\")\n",
    "evaluations[:5]"
   ]
  },
  {
   "cell_type": "code",
   "execution_count": 64,
   "id": "fae998e8-83e5-440f-a88d-0f5e344042a9",
   "metadata": {
    "tags": []
   },
   "outputs": [
    {
     "data": {
      "text/plain": [
       "count    300.000000\n",
       "mean       0.728392\n",
       "std        0.157755\n",
       "min        0.125357\n",
       "25%        0.651273\n",
       "50%        0.763761\n",
       "75%        0.836235\n",
       "max        0.958796\n",
       "dtype: float64"
      ]
     },
     "execution_count": 64,
     "metadata": {},
     "output_type": "execute_result"
    }
   ],
   "source": [
    "# Q3 answer = 0.83\n",
    "series = pd.Series(evaluations)\n",
    "stats = series.describe()\n",
    "stats"
   ]
  },
  {
   "cell_type": "markdown",
   "id": "f7548305-d988-4a50-83c9-f343a20cd750",
   "metadata": {},
   "source": [
    "#### Q4. Rouge\n",
    "##### Q4 answer = 0.45"
   ]
  },
  {
   "cell_type": "code",
   "execution_count": 70,
   "id": "0a6230a4-8eb1-42fc-819b-30fdb8d7f3b1",
   "metadata": {
    "tags": []
   },
   "outputs": [
    {
     "data": {
      "text/plain": [
       "answer_llm     Yes, all sessions are recorded, so if you miss...\n",
       "answer_orig    Everything is recorded, so you won’t miss anyt...\n",
       "document                                                5170565b\n",
       "question                    Are sessions recorded if I miss one?\n",
       "course                                 machine-learning-zoomcamp\n",
       "Name: 10, dtype: object"
      ]
     },
     "execution_count": 70,
     "metadata": {},
     "output_type": "execute_result"
    }
   ],
   "source": [
    "doc = df.iloc[10]\n",
    "doc"
   ]
  },
  {
   "cell_type": "code",
   "execution_count": 71,
   "id": "37942bf7-609c-45e0-83e3-fe982a1e42a0",
   "metadata": {
    "tags": []
   },
   "outputs": [
    {
     "data": {
      "text/plain": [
       "{'rouge-1': {'r': 0.45454545454545453,\n",
       "  'p': 0.45454545454545453,\n",
       "  'f': 0.45454544954545456},\n",
       " 'rouge-2': {'r': 0.21621621621621623,\n",
       "  'p': 0.21621621621621623,\n",
       "  'f': 0.21621621121621637},\n",
       " 'rouge-l': {'r': 0.3939393939393939,\n",
       "  'p': 0.3939393939393939,\n",
       "  'f': 0.393939388939394}}"
      ]
     },
     "execution_count": 71,
     "metadata": {},
     "output_type": "execute_result"
    }
   ],
   "source": [
    "# Q4 ans=0.45\n",
    "\n",
    "from rouge import Rouge\n",
    "rouge_scorer = Rouge()\n",
    "\n",
    "scores = rouge_scorer.get_scores(doc['answer_llm'], doc['answer_orig'])[0]\n",
    "scores"
   ]
  },
  {
   "cell_type": "markdown",
   "id": "07594ff6-ed73-4f5d-8cb1-338a28d1bacc",
   "metadata": {},
   "source": [
    "#### Q5. Average rouge score\n",
    "##### Q5 answer = 0.35"
   ]
  },
  {
   "cell_type": "code",
   "execution_count": 73,
   "id": "5e070487-4fde-48c1-9707-a1dcc9d3e80c",
   "metadata": {
    "tags": []
   },
   "outputs": [
    {
     "data": {
      "text/plain": [
       "0.35490034990035496"
      ]
     },
     "execution_count": 73,
     "metadata": {},
     "output_type": "execute_result"
    }
   ],
   "source": [
    "# Q5 ans=0.35\n",
    "f_scores = [metric['f'] for metric in scores.values()]\n",
    "average_f_score = sum(f_scores) / len(f_scores)\n",
    "average_f_score"
   ]
  },
  {
   "cell_type": "markdown",
   "id": "49e9c038-54a8-4294-a20b-42ce1753dcb8",
   "metadata": {},
   "source": [
    "#### Q6. Average rouge score for all the data points\n",
    "##### Q6 answer = 0.2"
   ]
  },
  {
   "cell_type": "code",
   "execution_count": 76,
   "id": "1da15dff-c9e2-4622-b616-3b68257e7be8",
   "metadata": {
    "tags": []
   },
   "outputs": [
    {
     "name": "stdout",
     "output_type": "stream",
     "text": [
      "processing 0...\n",
      "processing 50...\n",
      "processing 100...\n",
      "processing 150...\n",
      "processing 200...\n",
      "processing 250...\n",
      "done\n"
     ]
    },
    {
     "data": {
      "text/plain": [
       "[0.028169010918468917,\n",
       " 0.05555555225694465,\n",
       " 0.17777777313333343,\n",
       " 0.047058819111419105,\n",
       " 0.03389830142092829]"
      ]
     },
     "execution_count": 76,
     "metadata": {},
     "output_type": "execute_result"
    }
   ],
   "source": [
    "import numpy as np\n",
    "\n",
    "evaluations = []\n",
    "for index, row in df.iterrows():\n",
    "    if index%50==0:\n",
    "        print(f\"processing {index}...\")\n",
    "    answer_llm = row.answer_llm\n",
    "    answer_orig = row.answer_orig\n",
    "    scores = rouge_scorer.get_scores(answer_llm, answer_orig)[0]\n",
    "    result = scores[\"rouge-2\"][\"f\"]\n",
    "    \n",
    "    evaluations.append(result)\n",
    "    \n",
    "print(\"done\")\n",
    "evaluations[:5]"
   ]
  },
  {
   "cell_type": "code",
   "execution_count": 77,
   "id": "778d09d6-543f-4839-8cca-3f0f60814d55",
   "metadata": {
    "tags": []
   },
   "outputs": [
    {
     "data": {
      "text/plain": [
       "count    300.000000\n",
       "mean       0.206965\n",
       "std        0.153550\n",
       "min        0.000000\n",
       "25%        0.097809\n",
       "50%        0.178671\n",
       "75%        0.286181\n",
       "max        0.739130\n",
       "dtype: float64"
      ]
     },
     "execution_count": 77,
     "metadata": {},
     "output_type": "execute_result"
    }
   ],
   "source": [
    "# Q6 ans = 0.2\n",
    "series = pd.Series(evaluations)\n",
    "stats = series.describe()\n",
    "stats"
   ]
  },
  {
   "cell_type": "code",
   "execution_count": null,
   "id": "993b5790-8be3-47fb-9b89-e36488bbf4ab",
   "metadata": {},
   "outputs": [],
   "source": []
  }
 ],
 "metadata": {
  "environment": {
   "kernel": "python3",
   "name": ".m123",
   "type": "gcloud",
   "uri": "us-docker.pkg.dev/deeplearning-platform-release/gcr.io/:m123"
  },
  "kernelspec": {
   "display_name": "Python 3 (Local)",
   "language": "python",
   "name": "python3"
  },
  "language_info": {
   "codemirror_mode": {
    "name": "ipython",
    "version": 3
   },
   "file_extension": ".py",
   "mimetype": "text/x-python",
   "name": "python",
   "nbconvert_exporter": "python",
   "pygments_lexer": "ipython3",
   "version": "3.10.14"
  }
 },
 "nbformat": 4,
 "nbformat_minor": 5
}
