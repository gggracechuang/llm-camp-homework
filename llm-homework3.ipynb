{
 "cells": [
  {
   "cell_type": "markdown",
   "id": "22d55a5d-26c5-426c-aa5a-c47c1e35ab24",
   "metadata": {},
   "source": [
    "#### Q1. Getting the embeddings model\n",
    "- Answer: 0.07822264"
   ]
  },
  {
   "cell_type": "code",
   "execution_count": 3,
   "id": "b9cde66b-4f4e-4f7d-803c-f0c822b0a1c6",
   "metadata": {
    "tags": []
   },
   "outputs": [
    {
     "data": {
      "application/vnd.jupyter.widget-view+json": {
       "model_id": "4bfc0df1f973407db21069f810c245c5",
       "version_major": 2,
       "version_minor": 0
      },
      "text/plain": [
       "modules.json:   0%|          | 0.00/349 [00:00<?, ?B/s]"
      ]
     },
     "metadata": {},
     "output_type": "display_data"
    },
    {
     "data": {
      "application/vnd.jupyter.widget-view+json": {
       "model_id": "d020d5b4f49b42e59e76ccb5cc90e41e",
       "version_major": 2,
       "version_minor": 0
      },
      "text/plain": [
       "config_sentence_transformers.json:   0%|          | 0.00/116 [00:00<?, ?B/s]"
      ]
     },
     "metadata": {},
     "output_type": "display_data"
    },
    {
     "data": {
      "application/vnd.jupyter.widget-view+json": {
       "model_id": "3645dff1d11d47f685936b4825c8660d",
       "version_major": 2,
       "version_minor": 0
      },
      "text/plain": [
       "README.md:   0%|          | 0.00/9.52k [00:00<?, ?B/s]"
      ]
     },
     "metadata": {},
     "output_type": "display_data"
    },
    {
     "data": {
      "application/vnd.jupyter.widget-view+json": {
       "model_id": "06eadfb7d792401ca9dc7474b9c09429",
       "version_major": 2,
       "version_minor": 0
      },
      "text/plain": [
       "sentence_bert_config.json:   0%|          | 0.00/53.0 [00:00<?, ?B/s]"
      ]
     },
     "metadata": {},
     "output_type": "display_data"
    },
    {
     "data": {
      "application/vnd.jupyter.widget-view+json": {
       "model_id": "792432cd68d047af8c834767897f2b9d",
       "version_major": 2,
       "version_minor": 0
      },
      "text/plain": [
       "config.json:   0%|          | 0.00/523 [00:00<?, ?B/s]"
      ]
     },
     "metadata": {},
     "output_type": "display_data"
    },
    {
     "data": {
      "application/vnd.jupyter.widget-view+json": {
       "model_id": "30734ed570b147f087ddfb08b611b8ae",
       "version_major": 2,
       "version_minor": 0
      },
      "text/plain": [
       "model.safetensors:   0%|          | 0.00/265M [00:00<?, ?B/s]"
      ]
     },
     "metadata": {},
     "output_type": "display_data"
    },
    {
     "data": {
      "application/vnd.jupyter.widget-view+json": {
       "model_id": "b0c011d9101e46d7934bded53767b320",
       "version_major": 2,
       "version_minor": 0
      },
      "text/plain": [
       "tokenizer_config.json:   0%|          | 0.00/333 [00:00<?, ?B/s]"
      ]
     },
     "metadata": {},
     "output_type": "display_data"
    },
    {
     "data": {
      "application/vnd.jupyter.widget-view+json": {
       "model_id": "c816324ce2f044aeb93d77b28055d5f8",
       "version_major": 2,
       "version_minor": 0
      },
      "text/plain": [
       "vocab.txt:   0%|          | 0.00/232k [00:00<?, ?B/s]"
      ]
     },
     "metadata": {},
     "output_type": "display_data"
    },
    {
     "data": {
      "application/vnd.jupyter.widget-view+json": {
       "model_id": "488cb4c57d9c466e99fc04a9d91268ff",
       "version_major": 2,
       "version_minor": 0
      },
      "text/plain": [
       "tokenizer.json:   0%|          | 0.00/466k [00:00<?, ?B/s]"
      ]
     },
     "metadata": {},
     "output_type": "display_data"
    },
    {
     "data": {
      "application/vnd.jupyter.widget-view+json": {
       "model_id": "7c3102ac4bf14198afa4b4a0cc15dcd7",
       "version_major": 2,
       "version_minor": 0
      },
      "text/plain": [
       "special_tokens_map.json:   0%|          | 0.00/112 [00:00<?, ?B/s]"
      ]
     },
     "metadata": {},
     "output_type": "display_data"
    },
    {
     "data": {
      "application/vnd.jupyter.widget-view+json": {
       "model_id": "28772e2f8b4645bcbff999b26b2dab07",
       "version_major": 2,
       "version_minor": 0
      },
      "text/plain": [
       "1_Pooling/config.json:   0%|          | 0.00/190 [00:00<?, ?B/s]"
      ]
     },
     "metadata": {},
     "output_type": "display_data"
    }
   ],
   "source": [
    "from sentence_transformers import SentenceTransformer\n",
    "\n",
    "model_name = \"multi-qa-distilbert-cos-v1\"\n",
    "embedding_model = SentenceTransformer(model_name)"
   ]
  },
  {
   "cell_type": "code",
   "execution_count": 18,
   "id": "640dc2d6-9c3f-4b23-ba21-a2f516d20702",
   "metadata": {
    "tags": []
   },
   "outputs": [],
   "source": [
    "user_question = \"I just discovered the course. Can I still join it?\"\n",
    "question_v = embedding_model.encode(user_question)"
   ]
  },
  {
   "cell_type": "code",
   "execution_count": 19,
   "id": "5f3dac40-a1cd-4bb8-a83c-e019dfada5b1",
   "metadata": {
    "tags": []
   },
   "outputs": [
    {
     "name": "stdout",
     "output_type": "stream",
     "text": [
      "0.07822264\n"
     ]
    }
   ],
   "source": [
    "print(question_v[0])"
   ]
  },
  {
   "cell_type": "markdown",
   "id": "58ec17f5-e9a5-4e51-8d9a-4cd750845686",
   "metadata": {},
   "source": [
    "#### Q2. Creating the embeddings\n",
    "- Answer: (375, 768)"
   ]
  },
  {
   "cell_type": "code",
   "execution_count": 9,
   "id": "bd55d548-a152-4585-979b-ac7ba126c3ef",
   "metadata": {
    "tags": []
   },
   "outputs": [],
   "source": [
    "import requests \n",
    "\n",
    "base_url = 'https://github.com/DataTalksClub/llm-zoomcamp/blob/main'\n",
    "relative_url = '03-vector-search/eval/documents-with-ids.json'\n",
    "docs_url = f'{base_url}/{relative_url}?raw=1'\n",
    "docs_response = requests.get(docs_url)\n",
    "documents = docs_response.json()"
   ]
  },
  {
   "cell_type": "code",
   "execution_count": 14,
   "id": "06b023b5-406b-4461-99ef-0b4391af8c58",
   "metadata": {
    "tags": []
   },
   "outputs": [
    {
     "data": {
      "text/plain": [
       "375"
      ]
     },
     "execution_count": 14,
     "metadata": {},
     "output_type": "execute_result"
    }
   ],
   "source": [
    "filtered_docs = [doc for doc in documents if doc[\"course\"] == \"machine-learning-zoomcamp\"]\n",
    "\n",
    "# We will use only a subset of the questions - the questions for \"machine-learning-zoomcamp\". After filtering, you should have only 375 documents\n",
    "len(filtered_docs)"
   ]
  },
  {
   "cell_type": "code",
   "execution_count": 21,
   "id": "db0759ab-6340-47c4-8bf6-5ea80432e5eb",
   "metadata": {
    "tags": []
   },
   "outputs": [
    {
     "name": "stdout",
     "output_type": "stream",
     "text": [
      "Processed 0 docs...\n",
      "Processed 10 docs...\n",
      "Processed 20 docs...\n",
      "Processed 30 docs...\n",
      "Processed 40 docs...\n",
      "Processed 50 docs...\n",
      "Processed 60 docs...\n",
      "Processed 70 docs...\n",
      "Processed 80 docs...\n",
      "Processed 90 docs...\n",
      "Processed 100 docs...\n",
      "Processed 110 docs...\n",
      "Processed 120 docs...\n",
      "Processed 130 docs...\n",
      "Processed 140 docs...\n",
      "Processed 150 docs...\n",
      "Processed 160 docs...\n",
      "Processed 170 docs...\n",
      "Processed 180 docs...\n",
      "Processed 190 docs...\n",
      "Processed 200 docs...\n",
      "Processed 210 docs...\n",
      "Processed 220 docs...\n",
      "Processed 230 docs...\n",
      "Processed 240 docs...\n",
      "Processed 250 docs...\n",
      "Processed 260 docs...\n",
      "Processed 270 docs...\n",
      "Processed 280 docs...\n",
      "Processed 290 docs...\n",
      "Processed 300 docs...\n",
      "Processed 310 docs...\n",
      "Processed 320 docs...\n",
      "Processed 330 docs...\n",
      "Processed 340 docs...\n",
      "Processed 350 docs...\n",
      "Processed 360 docs...\n",
      "Processed 370 docs...\n"
     ]
    },
    {
     "data": {
      "text/plain": [
       "(375, 768)"
      ]
     },
     "execution_count": 21,
     "metadata": {},
     "output_type": "execute_result"
    }
   ],
   "source": [
    "import numpy as np\n",
    "\n",
    "embeddings = []\n",
    "for index, doc in enumerate(filtered_docs):\n",
    "    if index%10==0:\n",
    "        print(f\"Processed {index} docs...\")\n",
    "    \n",
    "    qa_text = f'{doc[\"question\"]} {doc[\"text\"]}'\n",
    "    doc_v = embedding_model.encode(qa_text)\n",
    "    embeddings.append(doc_v)\n",
    "\n",
    "X = np.array(embeddings)\n",
    "X.shape"
   ]
  },
  {
   "cell_type": "markdown",
   "id": "3f85d4c7-1986-4ccd-8365-e51d9ac32f65",
   "metadata": {},
   "source": [
    "#### Q3. Search\n",
    "- Answer: 0.6506573"
   ]
  },
  {
   "cell_type": "code",
   "execution_count": 24,
   "id": "b217a44c-6c39-41d3-831a-f15a5338170c",
   "metadata": {
    "tags": []
   },
   "outputs": [],
   "source": [
    "scores = X.dot(question_v)"
   ]
  },
  {
   "cell_type": "code",
   "execution_count": 26,
   "id": "5c44cacd-1435-4f27-920d-5c82e32aeb16",
   "metadata": {
    "tags": []
   },
   "outputs": [
    {
     "data": {
      "text/plain": [
       "0.6506573"
      ]
     },
     "execution_count": 26,
     "metadata": {},
     "output_type": "execute_result"
    }
   ],
   "source": [
    "max(scores)"
   ]
  },
  {
   "cell_type": "code",
   "execution_count": 34,
   "id": "5554a6ca-e08b-461d-a397-5af383f75a9d",
   "metadata": {
    "tags": []
   },
   "outputs": [
    {
     "data": {
      "text/plain": [
       "[{'text': 'Yes, you can. You won’t be able to submit some of the homeworks, but you can still take part in the course.\\nIn order to get a certificate, you need to submit 2 out of 3 course projects and review 3 peers’ Projects by the deadline. It means that if you join the course at the end of November and manage to work on two projects, you will still be eligible for a certificate.',\n",
       "  'section': 'General course-related questions',\n",
       "  'question': 'The course has already started. Can I still join it?',\n",
       "  'course': 'machine-learning-zoomcamp',\n",
       "  'id': 'ee58a693'},\n",
       " {'text': 'Welcome to the course! Go to the course page (http://mlzoomcamp.com/), scroll down and start going through the course materials. Then read everything in the cohort folder for your cohort’s year.\\nClick on the links and start watching the videos. Also watch office hours from previous cohorts. Go to DTC youtube channel and click on Playlists and search for {course yyyy}. ML Zoomcamp was first launched in 2021.\\nOr you can just use this link: http://mlzoomcamp.com/#syllabus',\n",
       "  'section': 'General course-related questions',\n",
       "  'question': 'I just joined. What should I do next? How can I access course materials?',\n",
       "  'course': 'machine-learning-zoomcamp',\n",
       "  'id': '0a278fb2'},\n",
       " {'text': \"The process is automated now, so you should receive the email eventually. If you haven’t, check your promotions tab in Gmail as well as spam.\\nIf you unsubscribed from our newsletter, you won't get course related updates too.\\nBut don't worry, it’s not a problem. To make sure you don’t miss anything, join the #course-ml-zoomcamp channel in Slack and our telegram channel with announcements. This is enough to follow the course.\",\n",
       "  'section': 'General course-related questions',\n",
       "  'question': \"I filled the form, but haven't received a confirmation email. Is it normal?\",\n",
       "  'course': 'machine-learning-zoomcamp',\n",
       "  'id': '6ba259b1'},\n",
       " {'text': 'Technically, yes. Advisable? Not really. Reasons:\\nSome homework(s) asks for specific python library versions.\\nAnswers may not match in MCQ options if using different languages other than Python 3.10 (the recommended version for 2023 cohort)\\nAnd as for midterms/capstones, your peer-reviewers may not know these other languages. Do you want to be penalized for others not knowing these other languages?\\nYou can create a separate repo using course’s lessons but written in other languages for your own learnings, but not advisable for submissions.\\ntx[source]',\n",
       "  'section': 'Miscellaneous',\n",
       "  'question': 'Can I do the course in other languages, like R or Scala?',\n",
       "  'course': 'machine-learning-zoomcamp',\n",
       "  'id': '9f261648'},\n",
       " {'text': 'We won’t re-record the course videos. The focus of the course and the skills we want to teach remained the same, and the videos are still up-to-date.\\nIf you haven’t taken part in the previous iteration, you can start watching the videos. It’ll be useful for you and you will learn new things. However, we recommend using Python 3.10 now instead of Python 3.8.',\n",
       "  'section': 'General course-related questions',\n",
       "  'question': 'The course videos are from the previous iteration. Will you release new ones or we’ll use the videos from 2021?',\n",
       "  'course': 'machine-learning-zoomcamp',\n",
       "  'id': 'e7ba6b8a'}]"
      ]
     },
     "execution_count": 34,
     "metadata": {},
     "output_type": "execute_result"
    }
   ],
   "source": [
    "class VectorSearchEngine():\n",
    "    def __init__(self, documents, embeddings):\n",
    "        self.documents = documents\n",
    "        self.embeddings = embeddings\n",
    "\n",
    "    def search(self, v_query, num_results=10):\n",
    "        scores = self.embeddings.dot(v_query)\n",
    "        \n",
    "        # replace argsort with argpartition to make it a lot faster\n",
    "        idx = np.argpartition(-scores, num_results-1)[:num_results]\n",
    "        top_idx = idx[np.argsort(-scores[idx])]\n",
    "        return [self.documents[i] for i in idx]\n",
    "\n",
    "search_engine = VectorSearchEngine(documents=filtered_docs, embeddings=X)\n",
    "search_engine.search(question_v, num_results=5)"
   ]
  },
  {
   "cell_type": "markdown",
   "id": "9e39c0c5-388e-4b83-90a5-b5ea30020f39",
   "metadata": {},
   "source": [
    "#### Q4. Hit-rate for our search engine\n",
    "- Answer: 0.9398907103825137"
   ]
  },
  {
   "cell_type": "code",
   "execution_count": 35,
   "id": "baf2f601-282f-4214-8b33-3e2ff2f6d621",
   "metadata": {
    "tags": []
   },
   "outputs": [],
   "source": [
    "import pandas as pd\n",
    "\n",
    "base_url = 'https://github.com/DataTalksClub/llm-zoomcamp/blob/main'\n",
    "relative_url = '03-vector-search/eval/ground-truth-data.csv'\n",
    "ground_truth_url = f'{base_url}/{relative_url}?raw=1'\n",
    "\n",
    "df_ground_truth = pd.read_csv(ground_truth_url)\n",
    "df_ground_truth = df_ground_truth[df_ground_truth.course == 'machine-learning-zoomcamp']\n",
    "ground_truth = df_ground_truth.to_dict(orient='records')"
   ]
  },
  {
   "cell_type": "code",
   "execution_count": 38,
   "id": "108038d0-af25-4750-ba04-4cdd1bc64d5a",
   "metadata": {
    "tags": []
   },
   "outputs": [
    {
     "data": {
      "text/plain": [
       "1830"
      ]
     },
     "execution_count": 38,
     "metadata": {},
     "output_type": "execute_result"
    }
   ],
   "source": [
    "ground_truth[:4]\n",
    "len(ground_truth)"
   ]
  },
  {
   "cell_type": "code",
   "execution_count": 40,
   "id": "819d68ed-42f3-4576-9ae4-c53b93ea1189",
   "metadata": {
    "tags": []
   },
   "outputs": [
    {
     "name": "stdout",
     "output_type": "stream",
     "text": [
      "Processed 0 truth...\n",
      "Processed 50 truth...\n",
      "Processed 100 truth...\n",
      "Processed 150 truth...\n",
      "Processed 200 truth...\n",
      "Processed 250 truth...\n",
      "Processed 300 truth...\n",
      "Processed 350 truth...\n",
      "Processed 400 truth...\n",
      "Processed 450 truth...\n",
      "Processed 500 truth...\n",
      "Processed 550 truth...\n",
      "Processed 600 truth...\n",
      "Processed 650 truth...\n",
      "Processed 700 truth...\n",
      "Processed 750 truth...\n",
      "Processed 800 truth...\n",
      "Processed 850 truth...\n",
      "Processed 900 truth...\n",
      "Processed 950 truth...\n",
      "Processed 1000 truth...\n",
      "Processed 1050 truth...\n",
      "Processed 1100 truth...\n",
      "Processed 1150 truth...\n",
      "Processed 1200 truth...\n",
      "Processed 1250 truth...\n",
      "Processed 1300 truth...\n",
      "Processed 1350 truth...\n",
      "Processed 1400 truth...\n",
      "Processed 1450 truth...\n",
      "Processed 1500 truth...\n",
      "Processed 1550 truth...\n",
      "Processed 1600 truth...\n",
      "Processed 1650 truth...\n",
      "Processed 1700 truth...\n",
      "Processed 1750 truth...\n",
      "Processed 1800 truth...\n"
     ]
    }
   ],
   "source": [
    "search_engine = VectorSearchEngine(documents=filtered_docs, embeddings=X)\n",
    "\n",
    "validation_results = []\n",
    "for index, truth in enumerate(ground_truth):\n",
    "    if index%50==0:\n",
    "        print(f\"Processed {index} truth...\")\n",
    "        \n",
    "    question = truth[\"question\"]\n",
    "    doc_id = truth[\"document\"]\n",
    "    \n",
    "    question_v = embedding_model.encode(question)\n",
    "    search_results = search_engine.search(question_v, num_results=5)\n",
    "    result = any(search_result[\"id\"] == doc_id for search_result in search_results)\n",
    "    validation_results.append(result)"
   ]
  },
  {
   "cell_type": "code",
   "execution_count": 42,
   "id": "34c37c18-01b9-4fe3-b51c-47458e2d243e",
   "metadata": {
    "tags": []
   },
   "outputs": [
    {
     "data": {
      "text/plain": [
       "0.9398907103825137"
      ]
     },
     "execution_count": 42,
     "metadata": {},
     "output_type": "execute_result"
    }
   ],
   "source": [
    "sum(validation_results)/len(validation_results)"
   ]
  },
  {
   "cell_type": "markdown",
   "id": "cea2d370-0722-45e7-97a7-485dcd451829",
   "metadata": {},
   "source": [
    "#### Q5. Indexing with Elasticsearch\n",
    "- Answer: ee58a693"
   ]
  },
  {
   "cell_type": "code",
   "execution_count": null,
   "id": "f0db7059-3eca-42df-a0eb-998e37767c3c",
   "metadata": {},
   "outputs": [],
   "source": [
    "'''\n",
    "docker run -it \\\n",
    "    --rm \\\n",
    "    --name elasticsearch \\\n",
    "    -p 9200:9200 \\\n",
    "    -p 9300:9300 \\\n",
    "    -e \"discovery.type=single-node\" \\\n",
    "    -e \"xpack.security.enabled=false\" \\\n",
    "    docker.elastic.co/elasticsearch/elasticsearch:8.4.3\n",
    "'''"
   ]
  },
  {
   "cell_type": "code",
   "execution_count": 54,
   "id": "cb51c15a-3be7-4a02-8e48-566b79fc8fff",
   "metadata": {
    "tags": []
   },
   "outputs": [],
   "source": [
    "from elasticsearch import Elasticsearch, helpers\n",
    "import requests\n",
    "\n",
    "host = \"http://localhost:9200\"\n",
    "es = Elasticsearch([host])\n",
    "\n",
    "# 定义索引设置\n",
    "index_settings = {\n",
    "    \"settings\": {\n",
    "        \"number_of_shards\": 1,\n",
    "        \"number_of_replicas\": 0\n",
    "    },\n",
    "    \"mappings\": {\n",
    "        \"properties\": {\n",
    "            \"text\": {\"type\": \"text\"},\n",
    "            \"section\": {\"type\": \"text\"},\n",
    "            \"question\": {\"type\": \"text\"},\n",
    "            \"course\": {\"type\": \"keyword\"},\n",
    "            \"id\": {\"type\": \"keyword\"},\n",
    "            \"doc_vector\": {\n",
    "                \"type\": \"dense_vector\",\n",
    "                \"dims\": 768,\n",
    "                \"index\": True,\n",
    "                \"similarity\": \"cosine\"\n",
    "            }\n",
    "        }\n",
    "    }\n",
    "}\n",
    "\n",
    "# 创建索引\n",
    "index_name = 'doc_vector'\n",
    "if not es.indices.exists(index=index_name):\n",
    "    es.indices.create(index=index_name, body=index_settings)"
   ]
  },
  {
   "cell_type": "code",
   "execution_count": 55,
   "id": "016ec75f-7f03-4509-acbb-48e5524cf2c7",
   "metadata": {
    "tags": []
   },
   "outputs": [
    {
     "data": {
      "text/plain": [
       "(375, [])"
      ]
     },
     "execution_count": 55,
     "metadata": {},
     "output_type": "execute_result"
    }
   ],
   "source": [
    "from elasticsearch.helpers import bulk\n",
    "\n",
    "# filtered_docs & embeddings\n",
    "actions = [\n",
    "    {\n",
    "        \"_index\": index_name,\n",
    "        \"_id\": doc[\"id\"],\n",
    "        \"_source\": {\n",
    "            \"text\": doc[\"text\"],\n",
    "            \"section\": doc[\"section\"],\n",
    "            \"question\": doc[\"question\"],\n",
    "            \"course\": doc[\"course\"],\n",
    "            \"id\": doc[\"id\"],\n",
    "            \"doc_vector\": emb\n",
    "        }\n",
    "    }\n",
    "    for doc, emb in zip(filtered_docs, embeddings)\n",
    "]\n",
    "\n",
    "# 执行批量操作\n",
    "bulk(es, actions)"
   ]
  },
  {
   "cell_type": "code",
   "execution_count": 70,
   "id": "a2e1f01a-084e-46c7-a126-6e15141b3469",
   "metadata": {
    "tags": []
   },
   "outputs": [],
   "source": [
    "def elastic_search_knn(field, vector, course=\"machine-learning-zoomcamp\"):\n",
    "    knn = {\n",
    "        \"field\": field,\n",
    "        \"query_vector\": vector,\n",
    "        \"k\": 5,\n",
    "        \"num_candidates\": 10000,\n",
    "        \"filter\": {\n",
    "            \"term\": {\n",
    "                \"course\": course\n",
    "            }\n",
    "        }\n",
    "    }\n",
    "\n",
    "    search_query = {\n",
    "        \"knn\": knn,\n",
    "        \"_source\": [\"text\", \"section\", \"question\", \"course\", \"id\"]\n",
    "    }\n",
    "\n",
    "    es_results = es.search(\n",
    "        index=index_name,\n",
    "        body=search_query\n",
    "    )\n",
    "    \n",
    "    result_docs = []\n",
    "    \n",
    "    for hit in es_results['hits']['hits']:\n",
    "        #print(hit)\n",
    "        result_docs.append(hit['_source'])\n",
    "\n",
    "    return result_docs"
   ]
  },
  {
   "cell_type": "code",
   "execution_count": 71,
   "id": "688a84af-ba71-478c-b37e-fcc69fc31b48",
   "metadata": {
    "tags": []
   },
   "outputs": [],
   "source": [
    "user_question = \"I just discovered the course. Can I still join it?\"\n",
    "question_v = embedding_model.encode(user_question)\n",
    "\n",
    "result_docs = elastic_search_knn('doc_vector', question_v)"
   ]
  },
  {
   "cell_type": "code",
   "execution_count": 72,
   "id": "f1d499c0-c02b-4ca0-880c-1fe0c43a842a",
   "metadata": {
    "tags": []
   },
   "outputs": [
    {
     "data": {
      "text/plain": [
       "[{'question': 'The course has already started. Can I still join it?',\n",
       "  'course': 'machine-learning-zoomcamp',\n",
       "  'section': 'General course-related questions',\n",
       "  'text': 'Yes, you can. You won’t be able to submit some of the homeworks, but you can still take part in the course.\\nIn order to get a certificate, you need to submit 2 out of 3 course projects and review 3 peers’ Projects by the deadline. It means that if you join the course at the end of November and manage to work on two projects, you will still be eligible for a certificate.',\n",
       "  'id': 'ee58a693'},\n",
       " {'question': 'I just joined. What should I do next? How can I access course materials?',\n",
       "  'course': 'machine-learning-zoomcamp',\n",
       "  'section': 'General course-related questions',\n",
       "  'text': 'Welcome to the course! Go to the course page (http://mlzoomcamp.com/), scroll down and start going through the course materials. Then read everything in the cohort folder for your cohort’s year.\\nClick on the links and start watching the videos. Also watch office hours from previous cohorts. Go to DTC youtube channel and click on Playlists and search for {course yyyy}. ML Zoomcamp was first launched in 2021.\\nOr you can just use this link: http://mlzoomcamp.com/#syllabus',\n",
       "  'id': '0a278fb2'},\n",
       " {'question': \"I filled the form, but haven't received a confirmation email. Is it normal?\",\n",
       "  'course': 'machine-learning-zoomcamp',\n",
       "  'section': 'General course-related questions',\n",
       "  'text': \"The process is automated now, so you should receive the email eventually. If you haven’t, check your promotions tab in Gmail as well as spam.\\nIf you unsubscribed from our newsletter, you won't get course related updates too.\\nBut don't worry, it’s not a problem. To make sure you don’t miss anything, join the #course-ml-zoomcamp channel in Slack and our telegram channel with announcements. This is enough to follow the course.\",\n",
       "  'id': '6ba259b1'},\n",
       " {'question': 'Can I do the course in other languages, like R or Scala?',\n",
       "  'course': 'machine-learning-zoomcamp',\n",
       "  'section': 'Miscellaneous',\n",
       "  'text': 'Technically, yes. Advisable? Not really. Reasons:\\nSome homework(s) asks for specific python library versions.\\nAnswers may not match in MCQ options if using different languages other than Python 3.10 (the recommended version for 2023 cohort)\\nAnd as for midterms/capstones, your peer-reviewers may not know these other languages. Do you want to be penalized for others not knowing these other languages?\\nYou can create a separate repo using course’s lessons but written in other languages for your own learnings, but not advisable for submissions.\\ntx[source]',\n",
       "  'id': '9f261648'},\n",
       " {'question': 'The course videos are from the previous iteration. Will you release new ones or we’ll use the videos from 2021?',\n",
       "  'course': 'machine-learning-zoomcamp',\n",
       "  'section': 'General course-related questions',\n",
       "  'text': 'We won’t re-record the course videos. The focus of the course and the skills we want to teach remained the same, and the videos are still up-to-date.\\nIf you haven’t taken part in the previous iteration, you can start watching the videos. It’ll be useful for you and you will learn new things. However, we recommend using Python 3.10 now instead of Python 3.8.',\n",
       "  'id': 'e7ba6b8a'}]"
      ]
     },
     "execution_count": 72,
     "metadata": {},
     "output_type": "execute_result"
    }
   ],
   "source": [
    "result_docs"
   ]
  },
  {
   "cell_type": "markdown",
   "id": "02a0334d-661c-4853-853b-dd42a15bf09d",
   "metadata": {},
   "source": [
    "#### Q6. Hit-rate for Elasticsearch\n",
    "- Answer: 0.9398907103825137"
   ]
  },
  {
   "cell_type": "code",
   "execution_count": 73,
   "id": "51c4f1d9-090e-4326-921b-d72625531371",
   "metadata": {
    "tags": []
   },
   "outputs": [
    {
     "name": "stdout",
     "output_type": "stream",
     "text": [
      "Processed 0 truth...\n",
      "Processed 50 truth...\n",
      "Processed 100 truth...\n",
      "Processed 150 truth...\n",
      "Processed 200 truth...\n",
      "Processed 250 truth...\n",
      "Processed 300 truth...\n",
      "Processed 350 truth...\n",
      "Processed 400 truth...\n",
      "Processed 450 truth...\n",
      "Processed 500 truth...\n",
      "Processed 550 truth...\n",
      "Processed 600 truth...\n",
      "Processed 650 truth...\n",
      "Processed 700 truth...\n",
      "Processed 750 truth...\n",
      "Processed 800 truth...\n",
      "Processed 850 truth...\n",
      "Processed 900 truth...\n",
      "Processed 950 truth...\n",
      "Processed 1000 truth...\n",
      "Processed 1050 truth...\n",
      "Processed 1100 truth...\n",
      "Processed 1150 truth...\n",
      "Processed 1200 truth...\n",
      "Processed 1250 truth...\n",
      "Processed 1300 truth...\n",
      "Processed 1350 truth...\n",
      "Processed 1400 truth...\n",
      "Processed 1450 truth...\n",
      "Processed 1500 truth...\n",
      "Processed 1550 truth...\n",
      "Processed 1600 truth...\n",
      "Processed 1650 truth...\n",
      "Processed 1700 truth...\n",
      "Processed 1750 truth...\n",
      "Processed 1800 truth...\n"
     ]
    }
   ],
   "source": [
    "es_validation_results = []\n",
    "for index, truth in enumerate(ground_truth):\n",
    "    if index%50==0:\n",
    "        print(f\"Processed {index} truth...\")\n",
    "        \n",
    "    question = truth[\"question\"]\n",
    "    doc_id = truth[\"document\"]\n",
    "    \n",
    "    question_v = embedding_model.encode(question)\n",
    "    search_results = elastic_search_knn('doc_vector', question_v)\n",
    "    result = any(search_result[\"id\"] == doc_id for search_result in search_results)\n",
    "    es_validation_results.append(result)"
   ]
  },
  {
   "cell_type": "code",
   "execution_count": 74,
   "id": "c4766087-71e6-429a-aea4-dc4f55e9d19f",
   "metadata": {
    "tags": []
   },
   "outputs": [
    {
     "data": {
      "text/plain": [
       "0.9398907103825137"
      ]
     },
     "execution_count": 74,
     "metadata": {},
     "output_type": "execute_result"
    }
   ],
   "source": [
    "sum(es_validation_results)/len(es_validation_results)"
   ]
  },
  {
   "cell_type": "code",
   "execution_count": null,
   "id": "786b9328-1f3b-4e30-a6d9-919410c1306f",
   "metadata": {},
   "outputs": [],
   "source": []
  }
 ],
 "metadata": {
  "environment": {
   "kernel": "python3",
   "name": ".m123",
   "type": "gcloud",
   "uri": "us-docker.pkg.dev/deeplearning-platform-release/gcr.io/:m123"
  },
  "kernelspec": {
   "display_name": "Python 3",
   "language": "python",
   "name": "python3"
  },
  "language_info": {
   "codemirror_mode": {
    "name": "ipython",
    "version": 3
   },
   "file_extension": ".py",
   "mimetype": "text/x-python",
   "name": "python",
   "nbconvert_exporter": "python",
   "pygments_lexer": "ipython3",
   "version": "3.10.14"
  }
 },
 "nbformat": 4,
 "nbformat_minor": 5
}
